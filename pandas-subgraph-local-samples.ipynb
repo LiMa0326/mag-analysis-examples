{
 "cells": [
  {
   "cell_type": "code",
   "execution_count": 1,
   "metadata": {
    "ExecuteTime": {
     "end_time": "2020-07-29T21:35:11.705367Z",
     "start_time": "2020-07-29T21:35:11.154480Z"
    }
   },
   "outputs": [],
   "source": [
    "from PandasMagClass import MicrosoftAcademicGraph\n",
    "import numpy as np\n",
    "import pandas as pd\n",
    "import datetime as dt\n",
    "import matplotlib.pyplot as plt\n",
    "import matplotlib.ticker as ticker\n",
    "import seaborn as sns"
   ]
  },
  {
   "cell_type": "code",
   "execution_count": 2,
   "metadata": {
    "ExecuteTime": {
     "end_time": "2020-07-29T21:35:11.709332Z",
     "start_time": "2020-07-29T21:35:11.707114Z"
    }
   },
   "outputs": [],
   "source": [
    "root = './data/'\n",
    "mag = MicrosoftAcademicGraph(root)"
   ]
  },
  {
   "cell_type": "code",
   "execution_count": 3,
   "metadata": {
    "ExecuteTime": {
     "end_time": "2020-07-29T21:35:15.887485Z",
     "start_time": "2020-07-29T21:35:11.710929Z"
    }
   },
   "outputs": [
    {
     "data": {
      "text/html": [
       "<div>\n",
       "<style scoped>\n",
       "    .dataframe tbody tr th:only-of-type {\n",
       "        vertical-align: middle;\n",
       "    }\n",
       "\n",
       "    .dataframe tbody tr th {\n",
       "        vertical-align: top;\n",
       "    }\n",
       "\n",
       "    .dataframe thead th {\n",
       "        text-align: right;\n",
       "    }\n",
       "</style>\n",
       "<table border=\"1\" class=\"dataframe\">\n",
       "  <thead>\n",
       "    <tr style=\"text-align: right;\">\n",
       "      <th></th>\n",
       "      <th>PaperId</th>\n",
       "      <th>Rank</th>\n",
       "      <th>Doi</th>\n",
       "      <th>DocType</th>\n",
       "      <th>PaperTitle</th>\n",
       "      <th>OriginalTitle</th>\n",
       "      <th>BookTitle</th>\n",
       "      <th>Year</th>\n",
       "      <th>Date</th>\n",
       "      <th>OnlineDate</th>\n",
       "      <th>...</th>\n",
       "      <th>Volume</th>\n",
       "      <th>Issue</th>\n",
       "      <th>FirstPage</th>\n",
       "      <th>LastPage</th>\n",
       "      <th>ReferenceCount</th>\n",
       "      <th>CitationCount</th>\n",
       "      <th>EstimatedCitation</th>\n",
       "      <th>OriginalVenue</th>\n",
       "      <th>FamilyId</th>\n",
       "      <th>CreatedDate</th>\n",
       "    </tr>\n",
       "  </thead>\n",
       "  <tbody>\n",
       "    <tr>\n",
       "      <th>0</th>\n",
       "      <td>342037</td>\n",
       "      <td>22085</td>\n",
       "      <td>10.1533/9781845694586.3.194</td>\n",
       "      <td>NaN</td>\n",
       "      <td>detecting virus contamination in seafood</td>\n",
       "      <td>Detecting virus contamination in seafood.</td>\n",
       "      <td>NaN</td>\n",
       "      <td>2008</td>\n",
       "      <td>2008-01-01 12:00:00</td>\n",
       "      <td>NaT</td>\n",
       "      <td>...</td>\n",
       "      <td>NaN</td>\n",
       "      <td>NaN</td>\n",
       "      <td>194</td>\n",
       "      <td>211</td>\n",
       "      <td>105</td>\n",
       "      <td>1</td>\n",
       "      <td>1</td>\n",
       "      <td>Improving Seafood Products for the Consumer</td>\n",
       "      <td>NaN</td>\n",
       "      <td>2016-06-24 12:00:00</td>\n",
       "    </tr>\n",
       "    <tr>\n",
       "      <th>1</th>\n",
       "      <td>392414</td>\n",
       "      <td>25423</td>\n",
       "      <td>10.1007/978-88-470-0556-3_60</td>\n",
       "      <td>NaN</td>\n",
       "      <td>il lavaggio broncoalveolare bal in eta pediatrica</td>\n",
       "      <td>Il lavaggio broncoalveolare (BAL) in età pedia...</td>\n",
       "      <td>NaN</td>\n",
       "      <td>2007</td>\n",
       "      <td>2007-01-01 12:00:00</td>\n",
       "      <td>NaT</td>\n",
       "      <td>...</td>\n",
       "      <td>NaN</td>\n",
       "      <td>NaN</td>\n",
       "      <td>621</td>\n",
       "      <td>634</td>\n",
       "      <td>35</td>\n",
       "      <td>0</td>\n",
       "      <td>0</td>\n",
       "      <td>NaN</td>\n",
       "      <td>NaN</td>\n",
       "      <td>2016-06-24 12:00:00</td>\n",
       "    </tr>\n",
       "    <tr>\n",
       "      <th>2</th>\n",
       "      <td>442880</td>\n",
       "      <td>24185</td>\n",
       "      <td>10.1007/978-1-4684-5823-7_2</td>\n",
       "      <td>Journal</td>\n",
       "      <td>background paper functions of coronavirus glyc...</td>\n",
       "      <td>Background paper: functions of coronavirus gly...</td>\n",
       "      <td>NaN</td>\n",
       "      <td>1990</td>\n",
       "      <td>1990-01-01 12:00:00</td>\n",
       "      <td>NaT</td>\n",
       "      <td>...</td>\n",
       "      <td>276</td>\n",
       "      <td>NaN</td>\n",
       "      <td>5</td>\n",
       "      <td>7</td>\n",
       "      <td>1</td>\n",
       "      <td>4</td>\n",
       "      <td>4</td>\n",
       "      <td>Advances in Experimental Medicine and Biology</td>\n",
       "      <td>NaN</td>\n",
       "      <td>2016-06-24 12:00:00</td>\n",
       "    </tr>\n",
       "  </tbody>\n",
       "</table>\n",
       "<p>3 rows × 24 columns</p>\n",
       "</div>"
      ],
      "text/plain": [
       "   PaperId   Rank                           Doi  DocType  \\\n",
       "0   342037  22085   10.1533/9781845694586.3.194      NaN   \n",
       "1   392414  25423  10.1007/978-88-470-0556-3_60      NaN   \n",
       "2   442880  24185   10.1007/978-1-4684-5823-7_2  Journal   \n",
       "\n",
       "                                          PaperTitle  \\\n",
       "0           detecting virus contamination in seafood   \n",
       "1  il lavaggio broncoalveolare bal in eta pediatrica   \n",
       "2  background paper functions of coronavirus glyc...   \n",
       "\n",
       "                                       OriginalTitle BookTitle  Year  \\\n",
       "0          Detecting virus contamination in seafood.       NaN  2008   \n",
       "1  Il lavaggio broncoalveolare (BAL) in età pedia...       NaN  2007   \n",
       "2  Background paper: functions of coronavirus gly...       NaN  1990   \n",
       "\n",
       "                 Date OnlineDate  ... Volume  Issue  FirstPage  LastPage  \\\n",
       "0 2008-01-01 12:00:00        NaT  ...    NaN    NaN        194       211   \n",
       "1 2007-01-01 12:00:00        NaT  ...    NaN    NaN        621       634   \n",
       "2 1990-01-01 12:00:00        NaT  ...    276    NaN          5         7   \n",
       "\n",
       "  ReferenceCount CitationCount EstimatedCitation  \\\n",
       "0            105             1                 1   \n",
       "1             35             0                 0   \n",
       "2              1             4                 4   \n",
       "\n",
       "                                   OriginalVenue  FamilyId         CreatedDate  \n",
       "0    Improving Seafood Products for the Consumer       NaN 2016-06-24 12:00:00  \n",
       "1                                            NaN       NaN 2016-06-24 12:00:00  \n",
       "2  Advances in Experimental Medicine and Biology       NaN 2016-06-24 12:00:00  \n",
       "\n",
       "[3 rows x 24 columns]"
      ]
     },
     "execution_count": 3,
     "metadata": {},
     "output_type": "execute_result"
    }
   ],
   "source": [
    "# load MAG data: Papers\n",
    "df_papers = mag.get_data_frame('Papers')\n",
    "df_papers.head(3)"
   ]
  },
  {
   "cell_type": "code",
   "execution_count": 4,
   "metadata": {
    "ExecuteTime": {
     "end_time": "2020-07-29T21:35:19.853343Z",
     "start_time": "2020-07-29T21:35:15.889360Z"
    }
   },
   "outputs": [
    {
     "data": {
      "text/html": [
       "<div>\n",
       "<style scoped>\n",
       "    .dataframe tbody tr th:only-of-type {\n",
       "        vertical-align: middle;\n",
       "    }\n",
       "\n",
       "    .dataframe tbody tr th {\n",
       "        vertical-align: top;\n",
       "    }\n",
       "\n",
       "    .dataframe thead th {\n",
       "        text-align: right;\n",
       "    }\n",
       "</style>\n",
       "<table border=\"1\" class=\"dataframe\">\n",
       "  <thead>\n",
       "    <tr style=\"text-align: right;\">\n",
       "      <th></th>\n",
       "      <th>PaperId</th>\n",
       "      <th>AuthorId</th>\n",
       "      <th>AffiliationId</th>\n",
       "      <th>AuthorSequenceNumber</th>\n",
       "      <th>OriginalAuthor</th>\n",
       "      <th>OriginalAffiliation</th>\n",
       "    </tr>\n",
       "  </thead>\n",
       "  <tbody>\n",
       "    <tr>\n",
       "      <th>0</th>\n",
       "      <td>342037</td>\n",
       "      <td>2110117508</td>\n",
       "      <td>NaN</td>\n",
       "      <td>7</td>\n",
       "      <td>F. S. le Guyader</td>\n",
       "      <td>NaN</td>\n",
       "    </tr>\n",
       "    <tr>\n",
       "      <th>1</th>\n",
       "      <td>342037</td>\n",
       "      <td>2135466750</td>\n",
       "      <td>71999127</td>\n",
       "      <td>2</td>\n",
       "      <td>R. M. Pintó</td>\n",
       "      <td>University of Barcelona, (Spain)</td>\n",
       "    </tr>\n",
       "    <tr>\n",
       "      <th>2</th>\n",
       "      <td>342037</td>\n",
       "      <td>2149630968</td>\n",
       "      <td>71999127</td>\n",
       "      <td>1</td>\n",
       "      <td>A. Bosch</td>\n",
       "      <td>University of Barcelona, (Spain)</td>\n",
       "    </tr>\n",
       "  </tbody>\n",
       "</table>\n",
       "</div>"
      ],
      "text/plain": [
       "   PaperId    AuthorId  AffiliationId  AuthorSequenceNumber    OriginalAuthor  \\\n",
       "0   342037  2110117508            NaN                     7  F. S. le Guyader   \n",
       "1   342037  2135466750       71999127                     2       R. M. Pintó   \n",
       "2   342037  2149630968       71999127                     1          A. Bosch   \n",
       "\n",
       "                OriginalAffiliation  \n",
       "0                               NaN  \n",
       "1  University of Barcelona, (Spain)  \n",
       "2  University of Barcelona, (Spain)  "
      ]
     },
     "execution_count": 4,
     "metadata": {},
     "output_type": "execute_result"
    }
   ],
   "source": [
    "# load MAG data: Paper Author Affiliations\n",
    "df_paper_author_affiliations = mag.get_data_frame('PaperAuthorAffiliations')\n",
    "df_paper_author_affiliations.head(3)"
   ]
  },
  {
   "cell_type": "code",
   "execution_count": 5,
   "metadata": {
    "ExecuteTime": {
     "end_time": "2020-07-29T21:35:20.703060Z",
     "start_time": "2020-07-29T21:35:19.855155Z"
    }
   },
   "outputs": [
    {
     "data": {
      "text/html": [
       "<div>\n",
       "<style scoped>\n",
       "    .dataframe tbody tr th:only-of-type {\n",
       "        vertical-align: middle;\n",
       "    }\n",
       "\n",
       "    .dataframe tbody tr th {\n",
       "        vertical-align: top;\n",
       "    }\n",
       "\n",
       "    .dataframe thead th {\n",
       "        text-align: right;\n",
       "    }\n",
       "</style>\n",
       "<table border=\"1\" class=\"dataframe\">\n",
       "  <thead>\n",
       "    <tr style=\"text-align: right;\">\n",
       "      <th></th>\n",
       "      <th>FieldOfStudyId</th>\n",
       "      <th>Rank</th>\n",
       "      <th>NormalizedName</th>\n",
       "      <th>DisplayName</th>\n",
       "      <th>MainType</th>\n",
       "      <th>Level</th>\n",
       "      <th>PaperCount</th>\n",
       "      <th>PaperFamilyCount</th>\n",
       "      <th>CitationCount</th>\n",
       "      <th>CreatedDate</th>\n",
       "    </tr>\n",
       "  </thead>\n",
       "  <tbody>\n",
       "    <tr>\n",
       "      <th>0</th>\n",
       "      <td>12843</td>\n",
       "      <td>11873</td>\n",
       "      <td>gravitational singularity</td>\n",
       "      <td>Gravitational singularity</td>\n",
       "      <td>NaN</td>\n",
       "      <td>2</td>\n",
       "      <td>38572</td>\n",
       "      <td>36517</td>\n",
       "      <td>498012</td>\n",
       "      <td>2016-06-24 12:00:00</td>\n",
       "    </tr>\n",
       "    <tr>\n",
       "      <th>1</th>\n",
       "      <td>20288</td>\n",
       "      <td>11771</td>\n",
       "      <td>superstring theory</td>\n",
       "      <td>Superstring theory</td>\n",
       "      <td>NaN</td>\n",
       "      <td>3</td>\n",
       "      <td>7425</td>\n",
       "      <td>6989</td>\n",
       "      <td>196930</td>\n",
       "      <td>2016-06-24 12:00:00</td>\n",
       "    </tr>\n",
       "    <tr>\n",
       "      <th>2</th>\n",
       "      <td>40700</td>\n",
       "      <td>9651</td>\n",
       "      <td>industrial organization</td>\n",
       "      <td>Industrial organization</td>\n",
       "      <td>NaN</td>\n",
       "      <td>1</td>\n",
       "      <td>320951</td>\n",
       "      <td>319290</td>\n",
       "      <td>2659089</td>\n",
       "      <td>2016-06-24 12:00:00</td>\n",
       "    </tr>\n",
       "  </tbody>\n",
       "</table>\n",
       "</div>"
      ],
      "text/plain": [
       "   FieldOfStudyId   Rank             NormalizedName  \\\n",
       "0           12843  11873  gravitational singularity   \n",
       "1           20288  11771         superstring theory   \n",
       "2           40700   9651    industrial organization   \n",
       "\n",
       "                 DisplayName MainType  Level  PaperCount  PaperFamilyCount  \\\n",
       "0  Gravitational singularity      NaN      2       38572             36517   \n",
       "1         Superstring theory      NaN      3        7425              6989   \n",
       "2    Industrial organization      NaN      1      320951            319290   \n",
       "\n",
       "   CitationCount         CreatedDate  \n",
       "0         498012 2016-06-24 12:00:00  \n",
       "1         196930 2016-06-24 12:00:00  \n",
       "2        2659089 2016-06-24 12:00:00  "
      ]
     },
     "execution_count": 5,
     "metadata": {},
     "output_type": "execute_result"
    }
   ],
   "source": [
    "# load MAG data: FieldOfStudy\n",
    "df_fos = mag.get_data_frame('FieldsOfStudy')\n",
    "df_fos.head(3)"
   ]
  },
  {
   "cell_type": "code",
   "execution_count": 6,
   "metadata": {
    "ExecuteTime": {
     "end_time": "2020-07-29T21:35:23.091782Z",
     "start_time": "2020-07-29T21:35:20.704467Z"
    }
   },
   "outputs": [
    {
     "data": {
      "text/html": [
       "<div>\n",
       "<style scoped>\n",
       "    .dataframe tbody tr th:only-of-type {\n",
       "        vertical-align: middle;\n",
       "    }\n",
       "\n",
       "    .dataframe tbody tr th {\n",
       "        vertical-align: top;\n",
       "    }\n",
       "\n",
       "    .dataframe thead th {\n",
       "        text-align: right;\n",
       "    }\n",
       "</style>\n",
       "<table border=\"1\" class=\"dataframe\">\n",
       "  <thead>\n",
       "    <tr style=\"text-align: right;\">\n",
       "      <th></th>\n",
       "      <th>PaperId</th>\n",
       "      <th>FieldOfStudyId</th>\n",
       "      <th>Score</th>\n",
       "    </tr>\n",
       "  </thead>\n",
       "  <tbody>\n",
       "    <tr>\n",
       "      <th>0</th>\n",
       "      <td>342037</td>\n",
       "      <td>31903555</td>\n",
       "      <td>0.368951</td>\n",
       "    </tr>\n",
       "    <tr>\n",
       "      <th>1</th>\n",
       "      <td>342037</td>\n",
       "      <td>34135077</td>\n",
       "      <td>0.548833</td>\n",
       "    </tr>\n",
       "    <tr>\n",
       "      <th>2</th>\n",
       "      <td>342037</td>\n",
       "      <td>86803240</td>\n",
       "      <td>0.364040</td>\n",
       "    </tr>\n",
       "  </tbody>\n",
       "</table>\n",
       "</div>"
      ],
      "text/plain": [
       "   PaperId  FieldOfStudyId     Score\n",
       "0   342037        31903555  0.368951\n",
       "1   342037        34135077  0.548833\n",
       "2   342037        86803240  0.364040"
      ]
     },
     "execution_count": 6,
     "metadata": {},
     "output_type": "execute_result"
    }
   ],
   "source": [
    "# load MAG data: Paper Field Of Study\n",
    "df_paper_fos = mag.get_data_frame('PaperFieldsOfStudy')\n",
    "df_paper_fos.head(3)"
   ]
  },
  {
   "cell_type": "code",
   "execution_count": 7,
   "metadata": {
    "ExecuteTime": {
     "end_time": "2020-07-29T21:35:23.209526Z",
     "start_time": "2020-07-29T21:35:23.093482Z"
    }
   },
   "outputs": [
    {
     "data": {
      "text/html": [
       "<div>\n",
       "<style scoped>\n",
       "    .dataframe tbody tr th:only-of-type {\n",
       "        vertical-align: middle;\n",
       "    }\n",
       "\n",
       "    .dataframe tbody tr th {\n",
       "        vertical-align: top;\n",
       "    }\n",
       "\n",
       "    .dataframe thead th {\n",
       "        text-align: right;\n",
       "    }\n",
       "</style>\n",
       "<table border=\"1\" class=\"dataframe\">\n",
       "  <thead>\n",
       "    <tr style=\"text-align: right;\">\n",
       "      <th></th>\n",
       "      <th>JournalId</th>\n",
       "      <th>Rank</th>\n",
       "      <th>NormalizedName</th>\n",
       "      <th>DisplayName</th>\n",
       "      <th>Issn</th>\n",
       "      <th>Publisher</th>\n",
       "      <th>Webpage</th>\n",
       "      <th>PaperCount</th>\n",
       "      <th>PaperFamilyCount</th>\n",
       "      <th>CitationCount</th>\n",
       "      <th>CreatedDate</th>\n",
       "    </tr>\n",
       "  </thead>\n",
       "  <tbody>\n",
       "    <tr>\n",
       "      <th>0</th>\n",
       "      <td>61661</td>\n",
       "      <td>10724</td>\n",
       "      <td>journal of prosthodontics</td>\n",
       "      <td>Journal of Prosthodontics</td>\n",
       "      <td>1059-941X</td>\n",
       "      <td>NaN</td>\n",
       "      <td>NaN</td>\n",
       "      <td>2759</td>\n",
       "      <td>2759</td>\n",
       "      <td>26991</td>\n",
       "      <td>2016-06-24 12:00:00</td>\n",
       "    </tr>\n",
       "    <tr>\n",
       "      <th>1</th>\n",
       "      <td>255146</td>\n",
       "      <td>9259</td>\n",
       "      <td>synthese</td>\n",
       "      <td>Synthese</td>\n",
       "      <td>0039-7857</td>\n",
       "      <td>NaN</td>\n",
       "      <td>http://www.springer.com/11229</td>\n",
       "      <td>7074</td>\n",
       "      <td>7074</td>\n",
       "      <td>76660</td>\n",
       "      <td>2016-06-24 12:00:00</td>\n",
       "    </tr>\n",
       "    <tr>\n",
       "      <th>2</th>\n",
       "      <td>260102</td>\n",
       "      <td>12335</td>\n",
       "      <td>bmc emergency medicine</td>\n",
       "      <td>BMC Emergency Medicine</td>\n",
       "      <td>1471-227X</td>\n",
       "      <td>NaN</td>\n",
       "      <td>NaN</td>\n",
       "      <td>556</td>\n",
       "      <td>556</td>\n",
       "      <td>5457</td>\n",
       "      <td>2016-06-24 12:00:00</td>\n",
       "    </tr>\n",
       "  </tbody>\n",
       "</table>\n",
       "</div>"
      ],
      "text/plain": [
       "   JournalId   Rank             NormalizedName                DisplayName  \\\n",
       "0      61661  10724  journal of prosthodontics  Journal of Prosthodontics   \n",
       "1     255146   9259                   synthese                   Synthese   \n",
       "2     260102  12335     bmc emergency medicine     BMC Emergency Medicine   \n",
       "\n",
       "        Issn Publisher                        Webpage  PaperCount  \\\n",
       "0  1059-941X       NaN                            NaN        2759   \n",
       "1  0039-7857       NaN  http://www.springer.com/11229        7074   \n",
       "2  1471-227X       NaN                            NaN         556   \n",
       "\n",
       "   PaperFamilyCount  CitationCount         CreatedDate  \n",
       "0              2759          26991 2016-06-24 12:00:00  \n",
       "1              7074          76660 2016-06-24 12:00:00  \n",
       "2               556           5457 2016-06-24 12:00:00  "
      ]
     },
     "execution_count": 7,
     "metadata": {},
     "output_type": "execute_result"
    }
   ],
   "source": [
    "# load MAG data: Journals\n",
    "df_journals = mag.get_data_frame('Journals')\n",
    "df_journals.head(3)"
   ]
  },
  {
   "cell_type": "code",
   "execution_count": 8,
   "metadata": {
    "ExecuteTime": {
     "end_time": "2020-07-29T21:35:23.343746Z",
     "start_time": "2020-07-29T21:35:23.211816Z"
    }
   },
   "outputs": [
    {
     "data": {
      "text/html": [
       "<div>\n",
       "<style scoped>\n",
       "    .dataframe tbody tr th:only-of-type {\n",
       "        vertical-align: middle;\n",
       "    }\n",
       "\n",
       "    .dataframe tbody tr th {\n",
       "        vertical-align: top;\n",
       "    }\n",
       "\n",
       "    .dataframe thead th {\n",
       "        text-align: right;\n",
       "    }\n",
       "</style>\n",
       "<table border=\"1\" class=\"dataframe\">\n",
       "  <thead>\n",
       "    <tr style=\"text-align: right;\">\n",
       "      <th></th>\n",
       "      <th>AffiliationId</th>\n",
       "      <th>Rank</th>\n",
       "      <th>NormalizedName</th>\n",
       "      <th>DisplayName</th>\n",
       "      <th>GridId</th>\n",
       "      <th>OfficialPage</th>\n",
       "      <th>WikiPage</th>\n",
       "      <th>PaperCount</th>\n",
       "      <th>PaperFamilyCount</th>\n",
       "      <th>CitationCount</th>\n",
       "      <th>Latitude</th>\n",
       "      <th>Longitude</th>\n",
       "      <th>CreatedDate</th>\n",
       "    </tr>\n",
       "  </thead>\n",
       "  <tbody>\n",
       "    <tr>\n",
       "      <th>0</th>\n",
       "      <td>9507</td>\n",
       "      <td>11625</td>\n",
       "      <td>sangji university</td>\n",
       "      <td>Sangji University</td>\n",
       "      <td>grid.412417.5</td>\n",
       "      <td>http://www.sangji.ac.kr/</td>\n",
       "      <td>http://en.wikipedia.org/wiki/Sangji_University</td>\n",
       "      <td>1479</td>\n",
       "      <td>1469</td>\n",
       "      <td>13387</td>\n",
       "      <td>37.369946</td>\n",
       "      <td>127.928612</td>\n",
       "      <td>2016-06-24 12:00:00</td>\n",
       "    </tr>\n",
       "    <tr>\n",
       "      <th>1</th>\n",
       "      <td>15855</td>\n",
       "      <td>12646</td>\n",
       "      <td>manchester institute of innovation research</td>\n",
       "      <td>Manchester Institute of Innovation Research</td>\n",
       "      <td>NaN</td>\n",
       "      <td>NaN</td>\n",
       "      <td>http://en.wikipedia.org/wiki/Manchester_Instit...</td>\n",
       "      <td>364</td>\n",
       "      <td>356</td>\n",
       "      <td>9278</td>\n",
       "      <td>53.467999</td>\n",
       "      <td>-2.236000</td>\n",
       "      <td>2016-06-24 12:00:00</td>\n",
       "    </tr>\n",
       "    <tr>\n",
       "      <th>2</th>\n",
       "      <td>19722</td>\n",
       "      <td>11477</td>\n",
       "      <td>ateneo de manila university</td>\n",
       "      <td>Ateneo de Manila University</td>\n",
       "      <td>grid.443223.0</td>\n",
       "      <td>http://www.ateneo.edu/</td>\n",
       "      <td>http://en.wikipedia.org/wiki/Ateneo_de_Manila_...</td>\n",
       "      <td>1877</td>\n",
       "      <td>1864</td>\n",
       "      <td>10674</td>\n",
       "      <td>14.638890</td>\n",
       "      <td>121.077782</td>\n",
       "      <td>2016-06-24 12:00:00</td>\n",
       "    </tr>\n",
       "  </tbody>\n",
       "</table>\n",
       "</div>"
      ],
      "text/plain": [
       "   AffiliationId   Rank                               NormalizedName  \\\n",
       "0           9507  11625                            sangji university   \n",
       "1          15855  12646  manchester institute of innovation research   \n",
       "2          19722  11477                  ateneo de manila university   \n",
       "\n",
       "                                   DisplayName         GridId  \\\n",
       "0                            Sangji University  grid.412417.5   \n",
       "1  Manchester Institute of Innovation Research            NaN   \n",
       "2                  Ateneo de Manila University  grid.443223.0   \n",
       "\n",
       "               OfficialPage  \\\n",
       "0  http://www.sangji.ac.kr/   \n",
       "1                       NaN   \n",
       "2    http://www.ateneo.edu/   \n",
       "\n",
       "                                            WikiPage  PaperCount  \\\n",
       "0     http://en.wikipedia.org/wiki/Sangji_University        1479   \n",
       "1  http://en.wikipedia.org/wiki/Manchester_Instit...         364   \n",
       "2  http://en.wikipedia.org/wiki/Ateneo_de_Manila_...        1877   \n",
       "\n",
       "   PaperFamilyCount  CitationCount   Latitude   Longitude         CreatedDate  \n",
       "0              1469          13387  37.369946  127.928612 2016-06-24 12:00:00  \n",
       "1               356           9278  53.467999   -2.236000 2016-06-24 12:00:00  \n",
       "2              1864          10674  14.638890  121.077782 2016-06-24 12:00:00  "
      ]
     },
     "execution_count": 8,
     "metadata": {},
     "output_type": "execute_result"
    }
   ],
   "source": [
    "# load MAG data: Affiliations\n",
    "df_affiliations = mag.get_data_frame('Affiliations')\n",
    "df_affiliations.head(3)"
   ]
  },
  {
   "cell_type": "code",
   "execution_count": 9,
   "metadata": {
    "ExecuteTime": {
     "end_time": "2020-07-29T21:35:23.739974Z",
     "start_time": "2020-07-29T21:35:23.345406Z"
    }
   },
   "outputs": [
    {
     "data": {
      "text/html": [
       "<div>\n",
       "<style scoped>\n",
       "    .dataframe tbody tr th:only-of-type {\n",
       "        vertical-align: middle;\n",
       "    }\n",
       "\n",
       "    .dataframe tbody tr th {\n",
       "        vertical-align: top;\n",
       "    }\n",
       "\n",
       "    .dataframe thead th {\n",
       "        text-align: right;\n",
       "    }\n",
       "</style>\n",
       "<table border=\"1\" class=\"dataframe\">\n",
       "  <thead>\n",
       "    <tr style=\"text-align: right;\">\n",
       "      <th></th>\n",
       "      <th>NormalizedName</th>\n",
       "      <th>PaperCount</th>\n",
       "    </tr>\n",
       "  </thead>\n",
       "  <tbody>\n",
       "    <tr>\n",
       "      <th>7378</th>\n",
       "      <td>medrxiv</td>\n",
       "      <td>3681</td>\n",
       "    </tr>\n",
       "    <tr>\n",
       "      <th>5383</th>\n",
       "      <td>plos one</td>\n",
       "      <td>1977</td>\n",
       "    </tr>\n",
       "    <tr>\n",
       "      <th>2525</th>\n",
       "      <td>journal of virology</td>\n",
       "      <td>1664</td>\n",
       "    </tr>\n",
       "    <tr>\n",
       "      <th>5828</th>\n",
       "      <td>biorxiv</td>\n",
       "      <td>1348</td>\n",
       "    </tr>\n",
       "    <tr>\n",
       "      <th>5046</th>\n",
       "      <td>emerging infectious diseases</td>\n",
       "      <td>1007</td>\n",
       "    </tr>\n",
       "    <tr>\n",
       "      <th>1250</th>\n",
       "      <td>surgical endoscopy and other interventional te...</td>\n",
       "      <td>909</td>\n",
       "    </tr>\n",
       "    <tr>\n",
       "      <th>174</th>\n",
       "      <td>virology</td>\n",
       "      <td>882</td>\n",
       "    </tr>\n",
       "    <tr>\n",
       "      <th>5243</th>\n",
       "      <td>scientific reports</td>\n",
       "      <td>871</td>\n",
       "    </tr>\n",
       "    <tr>\n",
       "      <th>5140</th>\n",
       "      <td>bmj</td>\n",
       "      <td>786</td>\n",
       "    </tr>\n",
       "    <tr>\n",
       "      <th>1324</th>\n",
       "      <td>the lancet</td>\n",
       "      <td>749</td>\n",
       "    </tr>\n",
       "  </tbody>\n",
       "</table>\n",
       "</div>"
      ],
      "text/plain": [
       "                                         NormalizedName  PaperCount\n",
       "7378                                            medrxiv        3681\n",
       "5383                                           plos one        1977\n",
       "2525                                journal of virology        1664\n",
       "5828                                            biorxiv        1348\n",
       "5046                       emerging infectious diseases        1007\n",
       "1250  surgical endoscopy and other interventional te...         909\n",
       "174                                            virology         882\n",
       "5243                                 scientific reports         871\n",
       "5140                                                bmj         786\n",
       "1324                                         the lancet         749"
      ]
     },
     "execution_count": 9,
     "metadata": {},
     "output_type": "execute_result"
    }
   ],
   "source": [
    "# top K journals\n",
    "\n",
    "# - papers with journals\n",
    "paper_with_journals = df_papers[df_papers['JournalId'].notnull()]\n",
    "\n",
    "# - join journals to get journal name\n",
    "paper_journals = pd.merge(paper_with_journals, df_journals, on ='JournalId', how = 'inner')[['JournalId', 'NormalizedName', 'PaperId']]\n",
    "\n",
    "# - group by journals and count papers\n",
    "journals_stats = paper_journals.groupby(['JournalId', 'NormalizedName']).size().to_frame('PaperCount').reset_index().sort_values(by=['PaperCount'], ascending=False)\n",
    "\n",
    "# - get top 10 journals\n",
    "journals_stats_top_10 = journals_stats.nlargest(10, 'PaperCount')[['NormalizedName', 'PaperCount']]\n",
    "\n",
    "journals_stats_top_10"
   ]
  },
  {
   "cell_type": "code",
   "execution_count": 10,
   "metadata": {
    "ExecuteTime": {
     "end_time": "2020-07-29T21:35:23.932738Z",
     "start_time": "2020-07-29T21:35:23.741455Z"
    }
   },
   "outputs": [
    {
     "data": {
      "image/png": "[encoded data removed]",
      "text/plain": [
       "<Figure size 864x432 with 1 Axes>"
      ]
     },
     "metadata": {
      "needs_background": "light"
     },
     "output_type": "display_data"
    }
   ],
   "source": [
    "# top K journals: figure\n",
    "plt.figure(figsize=(12, 6))\n",
    "ax_topk_journals = plt.subplot()\n",
    "ax_topk_journals = sns.barplot(x=\"PaperCount\", y=\"NormalizedName\", data=journals_stats_top_10)\n",
    "plt.show()"
   ]
  },
  {
   "cell_type": "code",
   "execution_count": 16,
   "metadata": {
    "ExecuteTime": {
     "end_time": "2020-07-29T21:50:13.973585Z",
     "start_time": "2020-07-29T21:50:13.789365Z"
    }
   },
   "outputs": [
    {
     "data": {
      "text/plain": [
       "6.155347014184458"
      ]
     },
     "execution_count": 16,
     "metadata": {},
     "output_type": "execute_result"
    }
   ],
   "source": [
    "# team size average\n",
    "\n",
    "# - group by paperId to get team size for each paper\n",
    "paper_team_size = df_paper_author_affiliations.groupby(['PaperId']).size().to_frame('TeamSize').reset_index()\n",
    "\n",
    "# - get average team size for all papers\n",
    "paper_team_size_avg = paper_team_size['TeamSize'].mean()\n",
    "\n",
    "paper_team_size_avg"
   ]
  },
  {
   "cell_type": "code",
   "execution_count": 77,
   "metadata": {
    "ExecuteTime": {
     "end_time": "2020-07-29T23:44:29.963694Z",
     "start_time": "2020-07-29T23:44:29.938010Z"
    }
   },
   "outputs": [
    {
     "data": {
      "text/html": [
       "<div>\n",
       "<style scoped>\n",
       "    .dataframe tbody tr th:only-of-type {\n",
       "        vertical-align: middle;\n",
       "    }\n",
       "\n",
       "    .dataframe tbody tr th {\n",
       "        vertical-align: top;\n",
       "    }\n",
       "\n",
       "    .dataframe thead th {\n",
       "        text-align: right;\n",
       "    }\n",
       "</style>\n",
       "<table border=\"1\" class=\"dataframe\">\n",
       "  <thead>\n",
       "    <tr style=\"text-align: right;\">\n",
       "      <th></th>\n",
       "      <th>TeamSize</th>\n",
       "      <th>PaperCount</th>\n",
       "    </tr>\n",
       "  </thead>\n",
       "  <tbody>\n",
       "    <tr>\n",
       "      <th>0</th>\n",
       "      <td>(0, 2]</td>\n",
       "      <td>29792</td>\n",
       "    </tr>\n",
       "    <tr>\n",
       "      <th>1</th>\n",
       "      <td>(2, 4]</td>\n",
       "      <td>27138</td>\n",
       "    </tr>\n",
       "    <tr>\n",
       "      <th>2</th>\n",
       "      <td>(4, 6]</td>\n",
       "      <td>21485</td>\n",
       "    </tr>\n",
       "    <tr>\n",
       "      <th>3</th>\n",
       "      <td>(6, 8]</td>\n",
       "      <td>14402</td>\n",
       "    </tr>\n",
       "    <tr>\n",
       "      <th>4</th>\n",
       "      <td>(8, 10]</td>\n",
       "      <td>8910</td>\n",
       "    </tr>\n",
       "    <tr>\n",
       "      <th>5</th>\n",
       "      <td>(10, 12]</td>\n",
       "      <td>5120</td>\n",
       "    </tr>\n",
       "    <tr>\n",
       "      <th>6</th>\n",
       "      <td>(12, 14]</td>\n",
       "      <td>2988</td>\n",
       "    </tr>\n",
       "    <tr>\n",
       "      <th>7</th>\n",
       "      <td>(14, 16]</td>\n",
       "      <td>1774</td>\n",
       "    </tr>\n",
       "    <tr>\n",
       "      <th>8</th>\n",
       "      <td>(16, 18]</td>\n",
       "      <td>1152</td>\n",
       "    </tr>\n",
       "    <tr>\n",
       "      <th>9</th>\n",
       "      <td>(18, 20]</td>\n",
       "      <td>775</td>\n",
       "    </tr>\n",
       "    <tr>\n",
       "      <th>10</th>\n",
       "      <td>(20, 5465]</td>\n",
       "      <td>2295</td>\n",
       "    </tr>\n",
       "  </tbody>\n",
       "</table>\n",
       "</div>"
      ],
      "text/plain": [
       "      TeamSize  PaperCount\n",
       "0       (0, 2]       29792\n",
       "1       (2, 4]       27138\n",
       "2       (4, 6]       21485\n",
       "3       (6, 8]       14402\n",
       "4      (8, 10]        8910\n",
       "5     (10, 12]        5120\n",
       "6     (12, 14]        2988\n",
       "7     (14, 16]        1774\n",
       "8     (16, 18]        1152\n",
       "9     (18, 20]         775\n",
       "10  (20, 5465]        2295"
      ]
     },
     "execution_count": 77,
     "metadata": {},
     "output_type": "execute_result"
    }
   ],
   "source": [
    "# team size distribution\n",
    "\n",
    "# - generate paper count per team size \n",
    "team_size_distribution = paper_team_size.groupby(['TeamSize']).size().to_frame('PaperCount').reset_index()\n",
    "\n",
    "# - set team size intervals\n",
    "bins = [0, 2, 4, 6, 8, 10, 12, 14, 16, 18, 20, paper_team_size['TeamSize'].max()]\n",
    "\n",
    "# - generate paper count per team size intervals\n",
    "team_size_range = paper_team_size.groupby(pd.cut(paper_team_size['TeamSize'], bins=bins)).size().to_frame('PaperCount').reset_index()\n",
    "\n",
    "team_size_range"
   ]
  },
  {
   "cell_type": "code",
   "execution_count": 78,
   "metadata": {
    "ExecuteTime": {
     "end_time": "2020-07-29T23:44:36.662122Z",
     "start_time": "2020-07-29T23:44:36.479942Z"
    }
   },
   "outputs": [
    {
     "data": {
      "image/png": "[encoded data removed]",
      "text/plain": [
       "<Figure size 864x432 with 1 Axes>"
      ]
     },
     "metadata": {
      "needs_background": "light"
     },
     "output_type": "display_data"
    }
   ],
   "source": [
    "# team size distribution: figure\n",
    "plt.figure(figsize=(12, 6))\n",
    "ax_team_size_distribution = plt.subplot()\n",
    "ax_team_size_distribution = sns.barplot(x=\"TeamSize\", y=\"PaperCount\", data=team_size_range)\n",
    "plt.show()"
   ]
  },
  {
   "cell_type": "code",
   "execution_count": 12,
   "metadata": {
    "ExecuteTime": {
     "end_time": "2020-07-29T21:35:24.105736Z",
     "start_time": "2020-07-29T21:35:24.088712Z"
    }
   },
   "outputs": [
    {
     "name": "stderr",
     "output_type": "stream",
     "text": [
      "/home/v-lima2/anaconda3/lib/python3.7/site-packages/ipykernel_launcher.py:2: FutureWarning: read_table is deprecated, use read_csv instead, passing sep='\\t'.\n",
      "  \n"
     ]
    },
    {
     "data": {
      "text/html": [
       "<div>\n",
       "<style scoped>\n",
       "    .dataframe tbody tr th:only-of-type {\n",
       "        vertical-align: middle;\n",
       "    }\n",
       "\n",
       "    .dataframe tbody tr th {\n",
       "        vertical-align: top;\n",
       "    }\n",
       "\n",
       "    .dataframe thead th {\n",
       "        text-align: right;\n",
       "    }\n",
       "</style>\n",
       "<table border=\"1\" class=\"dataframe\">\n",
       "  <thead>\n",
       "    <tr style=\"text-align: right;\">\n",
       "      <th></th>\n",
       "      <th>AffiliationId</th>\n",
       "      <th>Name</th>\n",
       "      <th>Region</th>\n",
       "    </tr>\n",
       "  </thead>\n",
       "  <tbody>\n",
       "    <tr>\n",
       "      <th>0</th>\n",
       "      <td>721619</td>\n",
       "      <td>Benemérita Universidad Autónoma de Puebla</td>\n",
       "      <td>Mexico</td>\n",
       "    </tr>\n",
       "    <tr>\n",
       "      <th>1</th>\n",
       "      <td>6615443</td>\n",
       "      <td>Hydro One</td>\n",
       "      <td>Canada</td>\n",
       "    </tr>\n",
       "    <tr>\n",
       "      <th>2</th>\n",
       "      <td>8086503</td>\n",
       "      <td>Sir Salimullah Medical College</td>\n",
       "      <td>Bangladesh</td>\n",
       "    </tr>\n",
       "  </tbody>\n",
       "</table>\n",
       "</div>"
      ],
      "text/plain": [
       "   AffiliationId                                       Name      Region\n",
       "0         721619  Benemérita Universidad Autónoma de Puebla      Mexico\n",
       "1        6615443                                  Hydro One      Canada\n",
       "2        8086503             Sir Salimullah Medical College  Bangladesh"
      ]
     },
     "execution_count": 12,
     "metadata": {},
     "output_type": "execute_result"
    }
   ],
   "source": [
    "# top K geolocation by past 20 year: load data\n",
    "df_affiliation_regions = pd.read_table('./AffiliationRegions.txt', low_memory=False, names=('AffiliationId', 'Name', 'Region'))\n",
    "df_affiliation_regions.head(3)"
   ]
  },
  {
   "cell_type": "code",
   "execution_count": 13,
   "metadata": {
    "ExecuteTime": {
     "end_time": "2020-07-29T21:35:25.347508Z",
     "start_time": "2020-07-29T21:35:24.107334Z"
    }
   },
   "outputs": [
    {
     "data": {
      "text/html": [
       "<div>\n",
       "<style scoped>\n",
       "    .dataframe tbody tr th:only-of-type {\n",
       "        vertical-align: middle;\n",
       "    }\n",
       "\n",
       "    .dataframe tbody tr th {\n",
       "        vertical-align: top;\n",
       "    }\n",
       "\n",
       "    .dataframe thead th {\n",
       "        text-align: right;\n",
       "    }\n",
       "</style>\n",
       "<table border=\"1\" class=\"dataframe\">\n",
       "  <thead>\n",
       "    <tr style=\"text-align: right;\">\n",
       "      <th></th>\n",
       "      <th>Region</th>\n",
       "      <th>Year</th>\n",
       "      <th>PaperCount</th>\n",
       "    </tr>\n",
       "  </thead>\n",
       "  <tbody>\n",
       "    <tr>\n",
       "      <th>956</th>\n",
       "      <td>United States</td>\n",
       "      <td>2017</td>\n",
       "      <td>2355</td>\n",
       "    </tr>\n",
       "    <tr>\n",
       "      <th>954</th>\n",
       "      <td>United States</td>\n",
       "      <td>2015</td>\n",
       "      <td>2340</td>\n",
       "    </tr>\n",
       "    <tr>\n",
       "      <th>955</th>\n",
       "      <td>United States</td>\n",
       "      <td>2016</td>\n",
       "      <td>2229</td>\n",
       "    </tr>\n",
       "    <tr>\n",
       "      <th>953</th>\n",
       "      <td>United States</td>\n",
       "      <td>2014</td>\n",
       "      <td>2107</td>\n",
       "    </tr>\n",
       "    <tr>\n",
       "      <th>958</th>\n",
       "      <td>United States</td>\n",
       "      <td>2019</td>\n",
       "      <td>2044</td>\n",
       "    </tr>\n",
       "    <tr>\n",
       "      <th>957</th>\n",
       "      <td>United States</td>\n",
       "      <td>2018</td>\n",
       "      <td>1994</td>\n",
       "    </tr>\n",
       "    <tr>\n",
       "      <th>952</th>\n",
       "      <td>United States</td>\n",
       "      <td>2013</td>\n",
       "      <td>1870</td>\n",
       "    </tr>\n",
       "    <tr>\n",
       "      <th>254</th>\n",
       "      <td>EU</td>\n",
       "      <td>2019</td>\n",
       "      <td>1806</td>\n",
       "    </tr>\n",
       "    <tr>\n",
       "      <th>252</th>\n",
       "      <td>EU</td>\n",
       "      <td>2017</td>\n",
       "      <td>1733</td>\n",
       "    </tr>\n",
       "    <tr>\n",
       "      <th>250</th>\n",
       "      <td>EU</td>\n",
       "      <td>2015</td>\n",
       "      <td>1704</td>\n",
       "    </tr>\n",
       "  </tbody>\n",
       "</table>\n",
       "</div>"
      ],
      "text/plain": [
       "            Region  Year  PaperCount\n",
       "956  United States  2017        2355\n",
       "954  United States  2015        2340\n",
       "955  United States  2016        2229\n",
       "953  United States  2014        2107\n",
       "958  United States  2019        2044\n",
       "957  United States  2018        1994\n",
       "952  United States  2013        1870\n",
       "254             EU  2019        1806\n",
       "252             EU  2017        1733\n",
       "250             EU  2015        1704"
      ]
     },
     "execution_count": 13,
     "metadata": {},
     "output_type": "execute_result"
    }
   ],
   "source": [
    "# top K geolocation by past 20 year\n",
    "\n",
    "# - filter papers publish year\n",
    "papers = df_papers[(df_papers.Year >= 2000) & (df_papers.Year <= 2019)]\n",
    "\n",
    "# - join papers with paper author affiliation\n",
    "papers_with_affi = pd.merge(papers, df_paper_author_affiliations, on ='PaperId', how = 'inner')[['PaperId', 'Year', 'AffiliationId']]\n",
    "\n",
    "# - keep only non-empty and distinct rows\n",
    "papers_with_affi_distinct = papers_with_affi[papers_with_affi['AffiliationId'].notnull()].drop_duplicates()\n",
    "\n",
    "# - join to get affiliation region\n",
    "papers_affi_region = pd.merge(df_affiliation_regions, papers_with_affi_distinct, on ='AffiliationId', how = 'inner')[['PaperId', 'Year', 'AffiliationId', 'Region']]\n",
    "\n",
    "# - eliminate double count when authors in one paper are from different affiliations but in the same country\n",
    "papers_year_region = papers_affi_region.groupby(['PaperId', 'Year', 'Region']).size().reset_index()[['PaperId', 'Year', 'Region']]\n",
    "\n",
    "# - group to get paper count per region and year\n",
    "region_year_papercount = papers_year_region.groupby(['Region', 'Year']).size().to_frame('PaperCount').reset_index().sort_values(by=['PaperCount'], ascending=False)\n",
    "\n",
    "# - get paper count per region\n",
    "region_papercount = region_year_papercount.groupby(['Region'])['PaperCount'].sum().reset_index()\n",
    "\n",
    "# - get region top paper count\n",
    "top_region_papercount = region_papercount.nlargest(5, 'PaperCount')['Region'].tolist()\n",
    "\n",
    "# - filter top countries on papers count per year and country\n",
    "top_region_year_papercount = region_year_papercount[region_year_papercount['Region'].isin(set(top_region_papercount))]\n",
    "\n",
    "top_region_year_papercount.head(10)"
   ]
  },
  {
   "cell_type": "code",
   "execution_count": 74,
   "metadata": {
    "ExecuteTime": {
     "end_time": "2020-07-29T23:20:08.750749Z",
     "start_time": "2020-07-29T23:20:08.375693Z"
    }
   },
   "outputs": [
    {
     "data": {
      "image/png": "[encoded data removed]",
      "text/plain": [
       "<Figure size 864x432 with 1 Axes>"
      ]
     },
     "metadata": {
      "needs_background": "light"
     },
     "output_type": "display_data"
    }
   ],
   "source": [
    "# top K geolocation by past 20 year: figure\n",
    "plt.figure(figsize=(12, 6))\n",
    "ax_topk_geolocation = plt.subplot()\n",
    "ax_topk_geolocation = sns.lineplot(x=\"Year\", y=\"PaperCount\", hue=\"Region\", style=\"Region\", markers=['o','s','v','d', '^'], hue_order=top_region_papercount, dashes=False, data=top_region_year_papercount)\n",
    "plt.gca().xaxis.set_major_locator(ticker.MultipleLocator(1))\n",
    "plt.show()"
   ]
  },
  {
   "cell_type": "code",
   "execution_count": null,
   "metadata": {},
   "outputs": [],
   "source": []
  }
 ],
 "metadata": {
  "kernelspec": {
   "display_name": "Python 3",
   "language": "python",
   "name": "python3"
  },
  "language_info": {
   "codemirror_mode": {
    "name": "ipython",
    "version": 3
   },
   "file_extension": ".py",
   "mimetype": "text/x-python",
   "name": "python",
   "nbconvert_exporter": "python",
   "pygments_lexer": "ipython3",
   "version": "3.7.3"
  }
 },
 "nbformat": 4,
 "nbformat_minor": 2
}
